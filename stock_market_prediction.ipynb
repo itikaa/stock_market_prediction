{
 "cells": [
  {
   "cell_type": "code",
   "execution_count": 39,
   "id": "eedbc7ec-7657-43fd-a8fb-225aca40019f",
   "metadata": {},
   "outputs": [
    {
     "data": {
      "text/html": [
       "        <script type=\"text/javascript\">\n",
       "        window.PlotlyConfig = {MathJaxConfig: 'local'};\n",
       "        if (window.MathJax && window.MathJax.Hub && window.MathJax.Hub.Config) {window.MathJax.Hub.Config({SVG: {font: \"STIX-Web\"}});}\n",
       "        if (typeof require !== 'undefined') {\n",
       "        require.undef(\"plotly\");\n",
       "        requirejs.config({\n",
       "            paths: {\n",
       "                'plotly': ['https://cdn.plot.ly/plotly-2.35.2.min']\n",
       "            }\n",
       "        });\n",
       "        require(['plotly'], function(Plotly) {\n",
       "            window._Plotly = Plotly;\n",
       "        });\n",
       "        }\n",
       "        </script>\n",
       "        "
      ]
     },
     "metadata": {},
     "output_type": "display_data"
    }
   ],
   "source": [
    "import numpy as np\n",
    "import pandas as pd\n",
    "import matplotlib.pyplot as plt\n",
    "import tensorflow as tf\n",
    "\n",
    "\n",
    "import chart_studio.plotly as py\n",
    "import plotly.graph_objs as go\n",
    "from plotly.offline import plot\n",
    "from plotly.offline import download_plotlyjs,init_notebook_mode,plot,iplot\n",
    "init_notebook_mode(connected=True)\n"
   ]
  },
  {
   "cell_type": "code",
   "execution_count": 2,
   "id": "e88a2886-ed82-47c1-b2b5-1e51cc6e5e37",
   "metadata": {},
   "outputs": [
    {
     "name": "stdout",
     "output_type": "stream",
     "text": [
      "       Open      High       Low     Close  Adj Close     Volume        Date\n",
      "0  1.156429  1.242857  1.145714  1.196429   1.196429  104790000  2002-05-23\n",
      "1  1.214286  1.225000  1.197143  1.210000   1.210000   11104800  2002-05-24\n",
      "2  1.213571  1.232143  1.157143  1.157143   1.157143    6609400  2002-05-28\n",
      "3  1.164286  1.164286  1.085714  1.103571   1.103571    6757800  2002-05-29\n",
      "4  1.107857  1.107857  1.071429  1.071429   1.071429   10154200  2002-05-30\n"
     ]
    }
   ],
   "source": [
    "stock_dataset = pd.read_csv('Stock_Data.csv')\n",
    "print(stock_dataset.head())"
   ]
  },
  {
   "cell_type": "code",
   "execution_count": 3,
   "id": "0ded85b4-ab6e-4f8f-a6fe-e91389b19c81",
   "metadata": {},
   "outputs": [
    {
     "name": "stdout",
     "output_type": "stream",
     "text": [
      "<class 'pandas.core.frame.DataFrame'>\n",
      "RangeIndex: 5241 entries, 0 to 5240\n",
      "Data columns (total 7 columns):\n",
      " #   Column     Non-Null Count  Dtype  \n",
      "---  ------     --------------  -----  \n",
      " 0   Open       5241 non-null   float64\n",
      " 1   High       5241 non-null   float64\n",
      " 2   Low        5241 non-null   float64\n",
      " 3   Close      5241 non-null   float64\n",
      " 4   Adj Close  5241 non-null   float64\n",
      " 5   Volume     5241 non-null   int64  \n",
      " 6   Date       5241 non-null   object \n",
      "dtypes: float64(5), int64(1), object(1)\n",
      "memory usage: 286.7+ KB\n"
     ]
    }
   ],
   "source": [
    "stock_dataset.info()"
   ]
  },
  {
   "cell_type": "code",
   "execution_count": 4,
   "id": "8b7bdb77-0ca2-4ac6-88a5-997c3aff3155",
   "metadata": {},
   "outputs": [
    {
     "data": {
      "text/html": [
       "<div>\n",
       "<style scoped>\n",
       "    .dataframe tbody tr th:only-of-type {\n",
       "        vertical-align: middle;\n",
       "    }\n",
       "\n",
       "    .dataframe tbody tr th {\n",
       "        vertical-align: top;\n",
       "    }\n",
       "\n",
       "    .dataframe thead th {\n",
       "        text-align: right;\n",
       "    }\n",
       "</style>\n",
       "<table border=\"1\" class=\"dataframe\">\n",
       "  <thead>\n",
       "    <tr style=\"text-align: right;\">\n",
       "      <th></th>\n",
       "      <th>Open</th>\n",
       "      <th>High</th>\n",
       "      <th>Low</th>\n",
       "      <th>Close</th>\n",
       "      <th>Adj Close</th>\n",
       "      <th>Volume</th>\n",
       "    </tr>\n",
       "  </thead>\n",
       "  <tbody>\n",
       "    <tr>\n",
       "      <th>count</th>\n",
       "      <td>5241.000000</td>\n",
       "      <td>5241.000000</td>\n",
       "      <td>5241.000000</td>\n",
       "      <td>5241.000000</td>\n",
       "      <td>5241.000000</td>\n",
       "      <td>5.241000e+03</td>\n",
       "    </tr>\n",
       "    <tr>\n",
       "      <th>mean</th>\n",
       "      <td>122.076674</td>\n",
       "      <td>123.994434</td>\n",
       "      <td>120.076663</td>\n",
       "      <td>122.090193</td>\n",
       "      <td>122.090193</td>\n",
       "      <td>1.628071e+07</td>\n",
       "    </tr>\n",
       "    <tr>\n",
       "      <th>std</th>\n",
       "      <td>168.295608</td>\n",
       "      <td>170.741211</td>\n",
       "      <td>165.666677</td>\n",
       "      <td>168.245728</td>\n",
       "      <td>168.245728</td>\n",
       "      <td>1.895990e+07</td>\n",
       "    </tr>\n",
       "    <tr>\n",
       "      <th>min</th>\n",
       "      <td>0.377857</td>\n",
       "      <td>0.410714</td>\n",
       "      <td>0.346429</td>\n",
       "      <td>0.372857</td>\n",
       "      <td>0.372857</td>\n",
       "      <td>2.856000e+05</td>\n",
       "    </tr>\n",
       "    <tr>\n",
       "      <th>25%</th>\n",
       "      <td>4.038571</td>\n",
       "      <td>4.120000</td>\n",
       "      <td>3.948571</td>\n",
       "      <td>4.035714</td>\n",
       "      <td>4.035714</td>\n",
       "      <td>6.179100e+06</td>\n",
       "    </tr>\n",
       "    <tr>\n",
       "      <th>50%</th>\n",
       "      <td>30.442858</td>\n",
       "      <td>30.968571</td>\n",
       "      <td>29.818571</td>\n",
       "      <td>30.415714</td>\n",
       "      <td>30.415714</td>\n",
       "      <td>1.042370e+07</td>\n",
       "    </tr>\n",
       "    <tr>\n",
       "      <th>75%</th>\n",
       "      <td>191.610001</td>\n",
       "      <td>194.490005</td>\n",
       "      <td>187.580002</td>\n",
       "      <td>190.850006</td>\n",
       "      <td>190.850006</td>\n",
       "      <td>1.939560e+07</td>\n",
       "    </tr>\n",
       "    <tr>\n",
       "      <th>max</th>\n",
       "      <td>692.349976</td>\n",
       "      <td>700.989990</td>\n",
       "      <td>686.090027</td>\n",
       "      <td>691.690002</td>\n",
       "      <td>691.690002</td>\n",
       "      <td>3.234140e+08</td>\n",
       "    </tr>\n",
       "  </tbody>\n",
       "</table>\n",
       "</div>"
      ],
      "text/plain": [
       "              Open         High          Low        Close    Adj Close  \\\n",
       "count  5241.000000  5241.000000  5241.000000  5241.000000  5241.000000   \n",
       "mean    122.076674   123.994434   120.076663   122.090193   122.090193   \n",
       "std     168.295608   170.741211   165.666677   168.245728   168.245728   \n",
       "min       0.377857     0.410714     0.346429     0.372857     0.372857   \n",
       "25%       4.038571     4.120000     3.948571     4.035714     4.035714   \n",
       "50%      30.442858    30.968571    29.818571    30.415714    30.415714   \n",
       "75%     191.610001   194.490005   187.580002   190.850006   190.850006   \n",
       "max     692.349976   700.989990   686.090027   691.690002   691.690002   \n",
       "\n",
       "             Volume  \n",
       "count  5.241000e+03  \n",
       "mean   1.628071e+07  \n",
       "std    1.895990e+07  \n",
       "min    2.856000e+05  \n",
       "25%    6.179100e+06  \n",
       "50%    1.042370e+07  \n",
       "75%    1.939560e+07  \n",
       "max    3.234140e+08  "
      ]
     },
     "execution_count": 4,
     "metadata": {},
     "output_type": "execute_result"
    }
   ],
   "source": [
    "stock_dataset.describe()"
   ]
  },
  {
   "cell_type": "code",
   "execution_count": 5,
   "id": "2d143d24-ee4e-456b-913d-fe88752d2504",
   "metadata": {},
   "outputs": [
    {
     "data": {
      "text/plain": [
       "0    2002-05-23\n",
       "1    2002-05-24\n",
       "2    2002-05-28\n",
       "3    2002-05-29\n",
       "4    2002-05-30\n",
       "Name: Date, dtype: object"
      ]
     },
     "execution_count": 5,
     "metadata": {},
     "output_type": "execute_result"
    }
   ],
   "source": [
    "stock_dataset.sort_values(by=[\"Date\"], inplace=True, ascending=True)\n",
    "stock_dataset.Date.head()"
   ]
  },
  {
   "cell_type": "code",
   "execution_count": 7,
   "id": "ac5cd1e1-1425-4237-81e4-c0cbcdb734d3",
   "metadata": {},
   "outputs": [
    {
     "data": {
      "text/plain": [
       "[<matplotlib.lines.Line2D at 0x281b638c6a0>]"
      ]
     },
     "execution_count": 7,
     "metadata": {},
     "output_type": "execute_result"
    },
    {
     "data": {
      "image/png": "[encoded data removed]",
      "text/plain": [
       "<Figure size 640x480 with 1 Axes>"
      ]
     },
     "metadata": {},
     "output_type": "display_data"
    }
   ],
   "source": [
    "newopen = stock_dataset[\"Open\"]\n",
    "plt.plot(newopen)"
   ]
  },
  {
   "cell_type": "code",
   "execution_count": 10,
   "id": "31816089-096c-4aa4-976f-98543f688ec2",
   "metadata": {},
   "outputs": [
    {
     "data": {
      "text/plain": [
       "[<matplotlib.lines.Line2D at 0x281c96df6a0>]"
      ]
     },
     "execution_count": 10,
     "metadata": {},
     "output_type": "execute_result"
    },
    {
     "data": {
      "image/png": "[encoded data removed]",
      "text/plain": [
       "<Figure size 640x480 with 1 Axes>"
      ]
     },
     "metadata": {},
     "output_type": "display_data"
    }
   ],
   "source": [
    "newclose = stock_dataset[\"Close\"]\n",
    "plt.plot(newclose)"
   ]
  },
  {
   "cell_type": "markdown",
   "id": "2afd390e-892e-4067-9eb6-90b40c0c6d9f",
   "metadata": {},
   "source": [
    "# Feature Scaling"
   ]
  },
  {
   "cell_type": "code",
   "execution_count": 11,
   "id": "ef1f2e18-dda8-47bd-a667-816ade99c515",
   "metadata": {},
   "outputs": [
    {
     "data": {
      "text/plain": [
       "(5241, 1)"
      ]
     },
     "execution_count": 11,
     "metadata": {},
     "output_type": "execute_result"
    }
   ],
   "source": [
    "from sklearn.preprocessing import MinMaxScaler\n",
    "\n",
    "scaler = MinMaxScaler(feature_range = (0,1))\n",
    "#Because we are going to make prediction on th basis of closing price\n",
    "close_price = stock_dataset[\"Close\"]\n",
    "\n",
    "close_price = np.array(close_price).reshape(-1 , 1)\n",
    "transformed_closed_value =  scaler.fit_transform(close_price)\n",
    "\n",
    "df = transformed_closed_value\n",
    "\n",
    "df.shape"
   ]
  },
  {
   "cell_type": "code",
   "execution_count": 15,
   "id": "827ce58b-db17-41e5-a80f-e6413f0a460d",
   "metadata": {},
   "outputs": [],
   "source": [
    "training_length = int(0.6 * len(df))\n",
    "testing_length  = int(len(df) - training_length)\n",
    "training_data = df[:training_length]\n",
    "testing_data  = df[training_length:]"
   ]
  },
  {
   "cell_type": "code",
   "execution_count": 17,
   "id": "1f92f308-36f3-4c92-b469-5fc00f403a4c",
   "metadata": {},
   "outputs": [
    {
     "data": {
      "text/plain": [
       "(3144, 2097)"
      ]
     },
     "execution_count": 17,
     "metadata": {},
     "output_type": "execute_result"
    }
   ],
   "source": [
    "len(training_data),len(testing_data)"
   ]
  },
  {
   "cell_type": "code",
   "execution_count": 18,
   "id": "9a5c5dc9",
   "metadata": {},
   "outputs": [],
   "source": [
    "def create_dataset(dataset,time_step):\n",
    "    X =[]\n",
    "    Y =[]\n",
    "    for i in range(len(dataset) - time_step - 1):\n",
    "        X.append(dataset[i:i +time_step, 0])\n",
    "        Y.append(dataset[i + time_step , 0])\n",
    "    return np.array(X) , np.array(Y)"
   ]
  },
  {
   "cell_type": "code",
   "execution_count": 20,
   "id": "86d24771-2792-4f22-9ac2-8ded432b5cf2",
   "metadata": {},
   "outputs": [],
   "source": [
    "time_step = 100\n",
    "\n",
    "X_train , Y_train = create_dataset(training_data , time_step)\n",
    "X_test , Y_test   = create_dataset(testing_data , time_step)"
   ]
  },
  {
   "cell_type": "code",
   "execution_count": 28,
   "id": "854d9cf6",
   "metadata": {},
   "outputs": [
    {
     "name": "stdout",
     "output_type": "stream",
     "text": [
      "(3043, 100)\n",
      "(3043,)\n",
      "(1996, 100)\n",
      "(1996,)\n"
     ]
    },
    {
     "data": {
      "text/plain": [
       "(None, None, None, None)"
      ]
     },
     "execution_count": 28,
     "metadata": {},
     "output_type": "execute_result"
    }
   ],
   "source": [
    "print(X_train.shape),print(Y_train.shape),print(X_test.shape),print(Y_test.shape)"
   ]
  },
  {
   "cell_type": "code",
   "execution_count": 29,
   "id": "3f0e4b68-0927-4c8a-b659-ec9f399abc9d",
   "metadata": {},
   "outputs": [],
   "source": [
    "#reshaping in the 3d \n",
    "\n",
    "X_train = X_train.reshape(X_train.shape[0] , X_train.shape[1] , 1)\n",
    "X_test  = X_test.reshape(X_test.shape[0] , X_test.shape[1] , 1)"
   ]
  },
  {
   "cell_type": "code",
   "execution_count": 41,
   "id": "04686c09-5707-4a62-aa41-4acb2af218e2",
   "metadata": {},
   "outputs": [],
   "source": [
    "from tensorflow.keras.models import Sequential\n",
    "from tensorflow.keras.layers import Dense\n",
    "from tensorflow.keras.layers import LSTM\n",
    "import math\n",
    "from sklearn.metrics import mean_squared_error as mse"
   ]
  },
  {
   "cell_type": "code",
   "execution_count": 35,
   "id": "9c909489-5724-42fe-ae6e-f9bd7037116e",
   "metadata": {},
   "outputs": [],
   "source": [
    "mdl = Sequential()\n",
    "mdl.add(LSTM(50, return_sequences=True, input_shape=(100, 1))) \n",
    "\n",
    "#inner layer\n",
    "mdl.add(LSTM(50, return_sequences=True))\n",
    "mdl.add(LSTM(50))\n",
    "#output layer\n",
    "mdl.add(Dense(1))\n",
    "\n",
    "mdl.compile(loss='mean_squared_error', optimizer='adam')"
   ]
  },
  {
   "cell_type": "code",
   "execution_count": 36,
   "id": "63d2e0b9-a106-4ac5-bb20-aa4981737c39",
   "metadata": {},
   "outputs": [
    {
     "name": "stdout",
     "output_type": "stream",
     "text": [
      "Model: \"sequential_1\"\n",
      "_________________________________________________________________\n",
      " Layer (type)                Output Shape              Param #   \n",
      "=================================================================\n",
      " lstm_3 (LSTM)               (None, 100, 50)           10400     \n",
      "                                                                 \n",
      " lstm_4 (LSTM)               (None, 100, 50)           20200     \n",
      "                                                                 \n",
      " lstm_5 (LSTM)               (None, 50)                20200     \n",
      "                                                                 \n",
      " dense_1 (Dense)             (None, 1)                 51        \n",
      "                                                                 \n",
      "=================================================================\n",
      "Total params: 50,851\n",
      "Trainable params: 50,851\n",
      "Non-trainable params: 0\n",
      "_________________________________________________________________\n"
     ]
    }
   ],
   "source": [
    "mdl.summary()"
   ]
  },
  {
   "cell_type": "code",
   "execution_count": 37,
   "id": "8fce1192-6c67-4a32-a3cc-4c0d95b62462",
   "metadata": {},
   "outputs": [
    {
     "name": "stdout",
     "output_type": "stream",
     "text": [
      "Epoch 1/100\n",
      "48/48 [==============================] - 19s 272ms/step - loss: 1.1844e-04 - val_loss: 0.0045\n",
      "Epoch 2/100\n",
      "48/48 [==============================] - 10s 216ms/step - loss: 9.4658e-06 - val_loss: 0.0052\n",
      "Epoch 3/100\n",
      "48/48 [==============================] - 11s 232ms/step - loss: 9.7088e-06 - val_loss: 0.0043\n",
      "Epoch 4/100\n",
      "48/48 [==============================] - 11s 225ms/step - loss: 9.4856e-06 - val_loss: 0.0039\n",
      "Epoch 5/100\n",
      "48/48 [==============================] - 11s 230ms/step - loss: 8.5143e-06 - val_loss: 0.0039\n",
      "Epoch 6/100\n",
      "48/48 [==============================] - 11s 229ms/step - loss: 7.3271e-06 - val_loss: 0.0039\n",
      "Epoch 7/100\n",
      "48/48 [==============================] - 12s 243ms/step - loss: 6.7046e-06 - val_loss: 0.0031\n",
      "Epoch 8/100\n",
      "48/48 [==============================] - 11s 229ms/step - loss: 6.6665e-06 - val_loss: 0.0019\n",
      "Epoch 9/100\n",
      "48/48 [==============================] - 10s 216ms/step - loss: 6.9343e-06 - val_loss: 0.0032\n",
      "Epoch 10/100\n",
      "48/48 [==============================] - 11s 231ms/step - loss: 6.5955e-06 - val_loss: 0.0045\n",
      "Epoch 11/100\n",
      "48/48 [==============================] - 11s 224ms/step - loss: 7.4908e-06 - val_loss: 0.0036\n",
      "Epoch 12/100\n",
      "48/48 [==============================] - 10s 213ms/step - loss: 6.3671e-06 - val_loss: 0.0051\n",
      "Epoch 13/100\n",
      "48/48 [==============================] - 11s 239ms/step - loss: 5.3211e-06 - val_loss: 0.0026\n",
      "Epoch 14/100\n",
      "48/48 [==============================] - 10s 217ms/step - loss: 5.7696e-06 - val_loss: 0.0020\n",
      "Epoch 15/100\n",
      "48/48 [==============================] - 10s 203ms/step - loss: 4.9133e-06 - val_loss: 0.0025\n",
      "Epoch 16/100\n",
      "48/48 [==============================] - 10s 214ms/step - loss: 5.1170e-06 - val_loss: 0.0045\n",
      "Epoch 17/100\n",
      "48/48 [==============================] - 10s 204ms/step - loss: 4.4298e-06 - val_loss: 0.0036\n",
      "Epoch 18/100\n",
      "48/48 [==============================] - 10s 213ms/step - loss: 4.6004e-06 - val_loss: 0.0032\n",
      "Epoch 19/100\n",
      "48/48 [==============================] - 10s 214ms/step - loss: 4.5617e-06 - val_loss: 0.0047\n",
      "Epoch 20/100\n",
      "48/48 [==============================] - 11s 221ms/step - loss: 3.9049e-06 - val_loss: 0.0032\n",
      "Epoch 21/100\n",
      "48/48 [==============================] - 11s 235ms/step - loss: 4.7490e-06 - val_loss: 0.0045\n",
      "Epoch 22/100\n",
      "48/48 [==============================] - 11s 240ms/step - loss: 4.2163e-06 - val_loss: 0.0048\n",
      "Epoch 23/100\n",
      "48/48 [==============================] - 10s 216ms/step - loss: 4.5901e-06 - val_loss: 0.0037\n",
      "Epoch 24/100\n",
      "48/48 [==============================] - 11s 223ms/step - loss: 4.0836e-06 - val_loss: 0.0050\n",
      "Epoch 25/100\n",
      "48/48 [==============================] - 11s 229ms/step - loss: 4.9915e-06 - val_loss: 0.0030\n",
      "Epoch 26/100\n",
      "48/48 [==============================] - 10s 213ms/step - loss: 4.4475e-06 - val_loss: 0.0026\n",
      "Epoch 27/100\n",
      "48/48 [==============================] - 11s 228ms/step - loss: 3.6436e-06 - val_loss: 0.0034\n",
      "Epoch 28/100\n",
      "48/48 [==============================] - 11s 223ms/step - loss: 3.4951e-06 - val_loss: 0.0029\n",
      "Epoch 29/100\n",
      "48/48 [==============================] - 10s 211ms/step - loss: 4.7683e-06 - val_loss: 0.0033\n",
      "Epoch 30/100\n",
      "48/48 [==============================] - 11s 220ms/step - loss: 3.3455e-06 - val_loss: 0.0044\n",
      "Epoch 31/100\n",
      "48/48 [==============================] - 11s 221ms/step - loss: 3.4552e-06 - val_loss: 0.0039\n",
      "Epoch 32/100\n",
      "48/48 [==============================] - 10s 209ms/step - loss: 3.9732e-06 - val_loss: 0.0038\n",
      "Epoch 33/100\n",
      "48/48 [==============================] - 11s 220ms/step - loss: 3.0137e-06 - val_loss: 0.0035\n",
      "Epoch 34/100\n",
      "48/48 [==============================] - 11s 223ms/step - loss: 3.3860e-06 - val_loss: 0.0026\n",
      "Epoch 35/100\n",
      "48/48 [==============================] - 10s 213ms/step - loss: 3.4431e-06 - val_loss: 0.0053\n",
      "Epoch 36/100\n",
      "48/48 [==============================] - 12s 242ms/step - loss: 3.3292e-06 - val_loss: 0.0067\n",
      "Epoch 37/100\n",
      "48/48 [==============================] - 11s 227ms/step - loss: 3.4954e-06 - val_loss: 0.0035\n",
      "Epoch 38/100\n",
      "48/48 [==============================] - 11s 225ms/step - loss: 2.9619e-06 - val_loss: 0.0023\n",
      "Epoch 39/100\n",
      "48/48 [==============================] - 12s 248ms/step - loss: 3.5440e-06 - val_loss: 0.0034\n",
      "Epoch 40/100\n",
      "48/48 [==============================] - 11s 235ms/step - loss: 2.8819e-06 - val_loss: 0.0022\n",
      "Epoch 41/100\n",
      "48/48 [==============================] - 10s 219ms/step - loss: 3.1025e-06 - val_loss: 0.0024\n",
      "Epoch 42/100\n",
      "48/48 [==============================] - 11s 221ms/step - loss: 2.7756e-06 - val_loss: 0.0019\n",
      "Epoch 43/100\n",
      "48/48 [==============================] - 12s 247ms/step - loss: 3.1101e-06 - val_loss: 0.0027\n",
      "Epoch 44/100\n",
      "48/48 [==============================] - 10s 219ms/step - loss: 2.9941e-06 - val_loss: 0.0029\n",
      "Epoch 45/100\n",
      "48/48 [==============================] - 10s 212ms/step - loss: 2.9897e-06 - val_loss: 0.0021\n",
      "Epoch 46/100\n",
      "48/48 [==============================] - 11s 230ms/step - loss: 2.6681e-06 - val_loss: 0.0024\n",
      "Epoch 47/100\n",
      "48/48 [==============================] - 11s 236ms/step - loss: 2.6110e-06 - val_loss: 0.0027\n",
      "Epoch 48/100\n",
      "48/48 [==============================] - 10s 217ms/step - loss: 2.5383e-06 - val_loss: 0.0021\n",
      "Epoch 49/100\n",
      "48/48 [==============================] - 10s 219ms/step - loss: 3.3686e-06 - val_loss: 0.0036\n",
      "Epoch 50/100\n",
      "48/48 [==============================] - 10s 214ms/step - loss: 2.5679e-06 - val_loss: 0.0025\n",
      "Epoch 51/100\n",
      "48/48 [==============================] - 10s 218ms/step - loss: 3.3456e-06 - val_loss: 0.0014\n",
      "Epoch 52/100\n",
      "48/48 [==============================] - 11s 234ms/step - loss: 2.7863e-06 - val_loss: 0.0035\n",
      "Epoch 53/100\n",
      "48/48 [==============================] - 11s 233ms/step - loss: 2.9005e-06 - val_loss: 0.0018\n",
      "Epoch 54/100\n",
      "48/48 [==============================] - 11s 224ms/step - loss: 2.7695e-06 - val_loss: 0.0018\n",
      "Epoch 55/100\n",
      "48/48 [==============================] - 11s 224ms/step - loss: 2.7654e-06 - val_loss: 0.0017\n",
      "Epoch 56/100\n",
      "48/48 [==============================] - 11s 237ms/step - loss: 2.7120e-06 - val_loss: 0.0018\n",
      "Epoch 57/100\n",
      "48/48 [==============================] - 12s 242ms/step - loss: 2.3161e-06 - val_loss: 0.0018\n",
      "Epoch 58/100\n",
      "48/48 [==============================] - 11s 235ms/step - loss: 2.4035e-06 - val_loss: 0.0024\n",
      "Epoch 59/100\n",
      "48/48 [==============================] - 11s 240ms/step - loss: 2.3915e-06 - val_loss: 0.0024\n",
      "Epoch 60/100\n",
      "48/48 [==============================] - 11s 232ms/step - loss: 2.4595e-06 - val_loss: 0.0015\n",
      "Epoch 61/100\n",
      "48/48 [==============================] - 12s 243ms/step - loss: 2.7635e-06 - val_loss: 0.0020\n",
      "Epoch 62/100\n",
      "48/48 [==============================] - 11s 239ms/step - loss: 2.1962e-06 - val_loss: 0.0014\n",
      "Epoch 63/100\n",
      "48/48 [==============================] - 12s 245ms/step - loss: 2.8103e-06 - val_loss: 0.0015\n",
      "Epoch 64/100\n",
      "48/48 [==============================] - 11s 230ms/step - loss: 1.9799e-06 - val_loss: 0.0021\n",
      "Epoch 65/100\n",
      "48/48 [==============================] - 11s 236ms/step - loss: 2.1039e-06 - val_loss: 0.0013\n",
      "Epoch 66/100\n",
      "48/48 [==============================] - 11s 236ms/step - loss: 2.5147e-06 - val_loss: 0.0016\n",
      "Epoch 67/100\n",
      "48/48 [==============================] - 11s 233ms/step - loss: 2.1579e-06 - val_loss: 0.0014\n",
      "Epoch 68/100\n",
      "48/48 [==============================] - 11s 232ms/step - loss: 2.1945e-06 - val_loss: 0.0016\n",
      "Epoch 69/100\n",
      "48/48 [==============================] - 11s 220ms/step - loss: 1.9774e-06 - val_loss: 9.5189e-04\n",
      "Epoch 70/100\n",
      "48/48 [==============================] - 11s 227ms/step - loss: 2.0131e-06 - val_loss: 0.0021\n",
      "Epoch 71/100\n",
      "48/48 [==============================] - 11s 233ms/step - loss: 2.1470e-06 - val_loss: 0.0023\n",
      "Epoch 72/100\n",
      "48/48 [==============================] - 11s 231ms/step - loss: 2.1004e-06 - val_loss: 0.0012\n",
      "Epoch 73/100\n",
      "48/48 [==============================] - 11s 229ms/step - loss: 1.9692e-06 - val_loss: 0.0018\n",
      "Epoch 74/100\n",
      "48/48 [==============================] - 11s 226ms/step - loss: 2.3106e-06 - val_loss: 0.0021\n",
      "Epoch 75/100\n",
      "48/48 [==============================] - 11s 234ms/step - loss: 2.2185e-06 - val_loss: 8.8780e-04\n",
      "Epoch 76/100\n",
      "48/48 [==============================] - 11s 235ms/step - loss: 1.9201e-06 - val_loss: 0.0010\n",
      "Epoch 77/100\n",
      "48/48 [==============================] - 10s 214ms/step - loss: 2.1679e-06 - val_loss: 0.0015\n",
      "Epoch 78/100\n",
      "48/48 [==============================] - 10s 217ms/step - loss: 2.0045e-06 - val_loss: 0.0018\n",
      "Epoch 79/100\n",
      "48/48 [==============================] - 10s 217ms/step - loss: 2.0125e-06 - val_loss: 0.0017\n",
      "Epoch 80/100\n",
      "48/48 [==============================] - 10s 218ms/step - loss: 2.4131e-06 - val_loss: 0.0011\n",
      "Epoch 81/100\n",
      "48/48 [==============================] - 11s 231ms/step - loss: 1.9504e-06 - val_loss: 0.0010\n",
      "Epoch 82/100\n",
      "48/48 [==============================] - 10s 217ms/step - loss: 1.9182e-06 - val_loss: 0.0013\n",
      "Epoch 83/100\n",
      "48/48 [==============================] - 11s 239ms/step - loss: 1.7216e-06 - val_loss: 0.0012\n",
      "Epoch 84/100\n",
      "48/48 [==============================] - 13s 263ms/step - loss: 1.5212e-06 - val_loss: 0.0026\n",
      "Epoch 85/100\n",
      "48/48 [==============================] - 11s 223ms/step - loss: 2.4821e-06 - val_loss: 8.1767e-04\n",
      "Epoch 86/100\n",
      "48/48 [==============================] - 10s 217ms/step - loss: 1.6739e-06 - val_loss: 0.0014\n",
      "Epoch 87/100\n",
      "48/48 [==============================] - 12s 241ms/step - loss: 1.8457e-06 - val_loss: 8.7867e-04\n",
      "Epoch 88/100\n",
      "48/48 [==============================] - 11s 237ms/step - loss: 1.8591e-06 - val_loss: 7.1827e-04\n",
      "Epoch 89/100\n",
      "48/48 [==============================] - 10s 217ms/step - loss: 1.5599e-06 - val_loss: 0.0010\n",
      "Epoch 90/100\n",
      "48/48 [==============================] - 11s 224ms/step - loss: 2.3657e-06 - val_loss: 9.8208e-04\n",
      "Epoch 91/100\n",
      "48/48 [==============================] - 11s 225ms/step - loss: 2.1715e-06 - val_loss: 0.0017\n",
      "Epoch 92/100\n",
      "48/48 [==============================] - 10s 217ms/step - loss: 1.5691e-06 - val_loss: 0.0012\n",
      "Epoch 93/100\n",
      "48/48 [==============================] - 11s 230ms/step - loss: 1.7834e-06 - val_loss: 0.0013\n",
      "Epoch 94/100\n",
      "48/48 [==============================] - 10s 218ms/step - loss: 1.4300e-06 - val_loss: 0.0011\n",
      "Epoch 95/100\n",
      "48/48 [==============================] - 10s 207ms/step - loss: 2.0176e-06 - val_loss: 8.1718e-04\n",
      "Epoch 96/100\n",
      "48/48 [==============================] - 11s 221ms/step - loss: 1.6074e-06 - val_loss: 6.8101e-04\n",
      "Epoch 97/100\n",
      "48/48 [==============================] - 11s 226ms/step - loss: 1.4569e-06 - val_loss: 5.5467e-04\n",
      "Epoch 98/100\n",
      "48/48 [==============================] - 10s 213ms/step - loss: 1.2402e-06 - val_loss: 0.0011\n",
      "Epoch 99/100\n",
      "48/48 [==============================] - 11s 222ms/step - loss: 1.5786e-06 - val_loss: 0.0010\n",
      "Epoch 100/100\n",
      "48/48 [==============================] - 10s 219ms/step - loss: 1.3462e-06 - val_loss: 6.0999e-04\n"
     ]
    }
   ],
   "source": [
    "model = mdl.fit(X_train, Y_train, validation_data=(X_test, Y_test), epochs=100, batch_size=64, verbose=1)"
   ]
  },
  {
   "cell_type": "code",
   "execution_count": 42,
   "id": "89c65843-b3f2-4a88-b08a-18f0a89225ac",
   "metadata": {},
   "outputs": [
    {
     "name": "stdout",
     "output_type": "stream",
     "text": [
      "96/96 [==============================] - 5s 43ms/step\n",
      "63/63 [==============================] - 3s 42ms/step\n"
     ]
    }
   ],
   "source": [
    "# prediction for training and testing datasets\n",
    "train_predict=mdl.predict(X_train)\n",
    "test_predict=mdl.predict(X_test)\n",
    "\n",
    "#transform to original form\n",
    "train_predict = scaler.inverse_transform(train_predict)\n",
    "test_predict = scaler.inverse_transform(test_predict)"
   ]
  },
  {
   "cell_type": "code",
   "execution_count": 48,
   "id": "77154590-3ac1-4c1e-bb76-f1773d6feac1",
   "metadata": {},
   "outputs": [
    {
     "data": {
      "text/plain": [
       "22.279168372599287"
      ]
     },
     "execution_count": 48,
     "metadata": {},
     "output_type": "execute_result"
    }
   ],
   "source": [
    "math.sqrt(mse(Y_train,train_predict))\n"
   ]
  },
  {
   "cell_type": "code",
   "execution_count": 46,
   "id": "e76abcf5-0980-4435-b68e-f6a88b20093b",
   "metadata": {},
   "outputs": [
    {
     "data": {
      "text/plain": [
       "322.4330840144677"
      ]
     },
     "execution_count": 46,
     "metadata": {},
     "output_type": "execute_result"
    }
   ],
   "source": [
    "math.sqrt(mse(Y_test,test_predict))"
   ]
  },
  {
   "cell_type": "markdown",
   "id": "42d92530-dc7d-4a36-958a-aeacf6b68dcf",
   "metadata": {},
   "source": [
    "# Visualizing the Data and Prediction\r\n"
   ]
  },
  {
   "cell_type": "code",
   "execution_count": 49,
   "id": "664def49-ffa1-4051-af68-6a22d1624378",
   "metadata": {},
   "outputs": [
    {
     "data": {
      "text/plain": [
       "Text(0, 0.5, 'Closing Price')"
      ]
     },
     "execution_count": 49,
     "metadata": {},
     "output_type": "execute_result"
    },
    {
     "data": {
      "image/png": "[encoded data removed]",
      "text/plain": [
       "<Figure size 640x480 with 1 Axes>"
      ]
     },
     "metadata": {},
     "output_type": "display_data"
    }
   ],
   "source": [
    "plt.plot(scaler.inverse_transform(df))\n",
    "plt.title(\"Variation of real dataset\")\n",
    "plt.xlabel(\"Index\")\n",
    "plt.ylabel(\"Closing Price\")"
   ]
  },
  {
   "cell_type": "code",
   "execution_count": 52,
   "id": "ae596a7a-c188-43d4-9f69-da321439e867",
   "metadata": {},
   "outputs": [],
   "source": [
    "look_back =100\n",
    "\n",
    "#shift train prediction for plotting\n",
    "trainPredictPlot = np.empty_like(df)\n",
    "trainPredictPlot[:,:] = np.nan\n",
    "trainPredictPlot[look_back:len(train_predict)+look_back, :] = train_predict\n",
    "\n",
    "#shifting test prediction for plotting\n",
    "testPredictPlot = np.empty_like(df)\n",
    "testPredictPlot[:, :] = np.nan\n",
    "testPredictPlot[len(train_predict)+(look_back*2)+1:len(df)-1, :] = test_predict"
   ]
  },
  {
   "cell_type": "code",
   "execution_count": 56,
   "id": "ad437b27-468f-4387-8d9e-468f67dfa7cc",
   "metadata": {},
   "outputs": [
    {
     "data": {
      "image/png": "[encoded data removed]",
      "text/plain": [
       "<Figure size 640x480 with 1 Axes>"
      ]
     },
     "metadata": {},
     "output_type": "display_data"
    }
   ],
   "source": [
    "plt.plot(scaler.inverse_transform(df))\n",
    "plt.plot(trainPredictPlot)\n",
    "plt.plot(testPredictPlot)\n",
    "plt.title(\"Variation of real dataset from predicted\",fontsize = \"15\")\n",
    "plt.xlabel(\"Index\")\n",
    "plt.ylabel(\"Closing Price\")\n",
    "plt.show()"
   ]
  },
  {
   "cell_type": "code",
   "execution_count": 58,
   "id": "459326d8-1931-498c-bd1a-5e1b267e60a0",
   "metadata": {},
   "outputs": [
    {
     "data": {
      "text/plain": [
       "2097"
      ]
     },
     "execution_count": 58,
     "metadata": {},
     "output_type": "execute_result"
    }
   ],
   "source": [
    "len(testing_data)"
   ]
  },
  {
   "cell_type": "code",
   "execution_count": 59,
   "id": "ed0d7de8-813f-4880-bf32-e47a90be6453",
   "metadata": {
    "scrolled": true
   },
   "outputs": [
    {
     "data": {
      "text/plain": [
       "(1, 100)"
      ]
     },
     "execution_count": 59,
     "metadata": {},
     "output_type": "execute_result"
    }
   ],
   "source": [
    "x_input=testing_data[1997:].reshape(1,-1)\n",
    "x_input.shape"
   ]
  },
  {
   "cell_type": "code",
   "execution_count": 62,
   "id": "27a8eac9-1b8e-4b1d-8137-3f651ee5821d",
   "metadata": {},
   "outputs": [
    {
     "data": {
      "text/plain": [
       "100"
      ]
     },
     "execution_count": 62,
     "metadata": {},
     "output_type": "execute_result"
    }
   ],
   "source": [
    "temp_input=list(x_input)\n",
    "temp_input = temp_input[0].tolist()\n",
    "len(temp_input)"
   ]
  },
  {
   "cell_type": "code",
   "execution_count": 70,
   "id": "7e571787-e3ed-494f-ab6a-a7aed4c2deb4",
   "metadata": {},
   "outputs": [
    {
     "name": "stdout",
     "output_type": "stream",
     "text": [
      "0 day input [0.42042518 0.43141869 0.42898856 0.42722381 0.4216692  0.41424858\n",
      " 0.39435901 0.38865974 0.37669708 0.37352921 0.38055925 0.36782994\n",
      " 0.39720864 0.4191378  0.43235892 0.44816935 0.44212289 0.42658734\n",
      " 0.4160278  0.41178948 0.41416179 0.42111952 0.41249831 0.40617705\n",
      " 0.40587325 0.44141411 0.45793332 0.46293825 0.4516265  0.4414575\n",
      " 0.44559456 0.44825614 0.46235965 0.45537296 0.46283698 0.45920621\n",
      " 0.41954282 0.41997676 0.41649066 0.41633156 0.43046399 0.43016023\n",
      " 0.42612444 0.41051659 0.39997149 0.42056984 0.42600874 0.42611001\n",
      " 0.44702659 0.44744609 0.45590816 0.45535853 0.4732519  0.47284688\n",
      " 0.47699836 0.48088949 0.47134249 0.47150158 0.45624088 0.49489174\n",
      " 0.51647375 0.52574586 0.53171997 0.52725025 0.52131953 0.51023923\n",
      " 0.51132412 0.52308428 0.53017224 0.52874016 0.52234659 0.52447297\n",
      " 0.53008541 0.52382202 0.50192177 0.51813723 0.52014786 0.5222598\n",
      " 0.50676761 0.50278969 0.48765917 0.48386931 0.46762494 0.4582226\n",
      " 0.46672811 0.46542625 0.45291391 0.45059948 0.45537296 0.45081645\n",
      " 0.44566686 0.4504693  0.43020362 0.42294214 0.42402703 0.42609553\n",
      " 0.43889719 0.44796682 0.43847769 0.43647772]\n",
      "0 day output [[0.43273634]]\n",
      "1 day input [0.43141869 0.42898856 0.42722381 0.4216692  0.41424858 0.39435901\n",
      " 0.38865974 0.37669708 0.37352921 0.38055925 0.36782994 0.39720864\n",
      " 0.4191378  0.43235892 0.44816935 0.44212289 0.42658734 0.4160278\n",
      " 0.41178948 0.41416179 0.42111952 0.41249831 0.40617705 0.40587325\n",
      " 0.44141411 0.45793332 0.46293825 0.4516265  0.4414575  0.44559456\n",
      " 0.44825614 0.46235965 0.45537296 0.46283698 0.45920621 0.41954282\n",
      " 0.41997676 0.41649066 0.41633156 0.43046399 0.43016023 0.42612444\n",
      " 0.41051659 0.39997149 0.42056984 0.42600874 0.42611001 0.44702659\n",
      " 0.44744609 0.45590816 0.45535853 0.4732519  0.47284688 0.47699836\n",
      " 0.48088949 0.47134249 0.47150158 0.45624088 0.49489174 0.51647375\n",
      " 0.52574586 0.53171997 0.52725025 0.52131953 0.51023923 0.51132412\n",
      " 0.52308428 0.53017224 0.52874016 0.52234659 0.52447297 0.53008541\n",
      " 0.52382202 0.50192177 0.51813723 0.52014786 0.5222598  0.50676761\n",
      " 0.50278969 0.48765917 0.48386931 0.46762494 0.4582226  0.46672811\n",
      " 0.46542625 0.45291391 0.45059948 0.45537296 0.45081645 0.44566686\n",
      " 0.4504693  0.43020362 0.42294214 0.42402703 0.42609553 0.43889719\n",
      " 0.44796682 0.43847769 0.43647772 0.43273634]\n",
      "1 day output [[0.42751086]]\n",
      "2 day input [0.42898856 0.42722381 0.4216692  0.41424858 0.39435901 0.38865974\n",
      " 0.37669708 0.37352921 0.38055925 0.36782994 0.39720864 0.4191378\n",
      " 0.43235892 0.44816935 0.44212289 0.42658734 0.4160278  0.41178948\n",
      " 0.41416179 0.42111952 0.41249831 0.40617705 0.40587325 0.44141411\n",
      " 0.45793332 0.46293825 0.4516265  0.4414575  0.44559456 0.44825614\n",
      " 0.46235965 0.45537296 0.46283698 0.45920621 0.41954282 0.41997676\n",
      " 0.41649066 0.41633156 0.43046399 0.43016023 0.42612444 0.41051659\n",
      " 0.39997149 0.42056984 0.42600874 0.42611001 0.44702659 0.44744609\n",
      " 0.45590816 0.45535853 0.4732519  0.47284688 0.47699836 0.48088949\n",
      " 0.47134249 0.47150158 0.45624088 0.49489174 0.51647375 0.52574586\n",
      " 0.53171997 0.52725025 0.52131953 0.51023923 0.51132412 0.52308428\n",
      " 0.53017224 0.52874016 0.52234659 0.52447297 0.53008541 0.52382202\n",
      " 0.50192177 0.51813723 0.52014786 0.5222598  0.50676761 0.50278969\n",
      " 0.48765917 0.48386931 0.46762494 0.4582226  0.46672811 0.46542625\n",
      " 0.45291391 0.45059948 0.45537296 0.45081645 0.44566686 0.4504693\n",
      " 0.43020362 0.42294214 0.42402703 0.42609553 0.43889719 0.44796682\n",
      " 0.43847769 0.43647772 0.43273634 0.42751086]\n",
      "2 day output [[0.4217635]]\n",
      "3 day input [0.42722381 0.4216692  0.41424858 0.39435901 0.38865974 0.37669708\n",
      " 0.37352921 0.38055925 0.36782994 0.39720864 0.4191378  0.43235892\n",
      " 0.44816935 0.44212289 0.42658734 0.4160278  0.41178948 0.41416179\n",
      " 0.42111952 0.41249831 0.40617705 0.40587325 0.44141411 0.45793332\n",
      " 0.46293825 0.4516265  0.4414575  0.44559456 0.44825614 0.46235965\n",
      " 0.45537296 0.46283698 0.45920621 0.41954282 0.41997676 0.41649066\n",
      " 0.41633156 0.43046399 0.43016023 0.42612444 0.41051659 0.39997149\n",
      " 0.42056984 0.42600874 0.42611001 0.44702659 0.44744609 0.45590816\n",
      " 0.45535853 0.4732519  0.47284688 0.47699836 0.48088949 0.47134249\n",
      " 0.47150158 0.45624088 0.49489174 0.51647375 0.52574586 0.53171997\n",
      " 0.52725025 0.52131953 0.51023923 0.51132412 0.52308428 0.53017224\n",
      " 0.52874016 0.52234659 0.52447297 0.53008541 0.52382202 0.50192177\n",
      " 0.51813723 0.52014786 0.5222598  0.50676761 0.50278969 0.48765917\n",
      " 0.48386931 0.46762494 0.4582226  0.46672811 0.46542625 0.45291391\n",
      " 0.45059948 0.45537296 0.45081645 0.44566686 0.4504693  0.43020362\n",
      " 0.42294214 0.42402703 0.42609553 0.43889719 0.44796682 0.43847769\n",
      " 0.43647772 0.43273634 0.42751086 0.42176351]\n",
      "3 day output [[0.4158935]]\n",
      "4 day input [0.4216692  0.41424858 0.39435901 0.38865974 0.37669708 0.37352921\n",
      " 0.38055925 0.36782994 0.39720864 0.4191378  0.43235892 0.44816935\n",
      " 0.44212289 0.42658734 0.4160278  0.41178948 0.41416179 0.42111952\n",
      " 0.41249831 0.40617705 0.40587325 0.44141411 0.45793332 0.46293825\n",
      " 0.4516265  0.4414575  0.44559456 0.44825614 0.46235965 0.45537296\n",
      " 0.46283698 0.45920621 0.41954282 0.41997676 0.41649066 0.41633156\n",
      " 0.43046399 0.43016023 0.42612444 0.41051659 0.39997149 0.42056984\n",
      " 0.42600874 0.42611001 0.44702659 0.44744609 0.45590816 0.45535853\n",
      " 0.4732519  0.47284688 0.47699836 0.48088949 0.47134249 0.47150158\n",
      " 0.45624088 0.49489174 0.51647375 0.52574586 0.53171997 0.52725025\n",
      " 0.52131953 0.51023923 0.51132412 0.52308428 0.53017224 0.52874016\n",
      " 0.52234659 0.52447297 0.53008541 0.52382202 0.50192177 0.51813723\n",
      " 0.52014786 0.5222598  0.50676761 0.50278969 0.48765917 0.48386931\n",
      " 0.46762494 0.4582226  0.46672811 0.46542625 0.45291391 0.45059948\n",
      " 0.45537296 0.45081645 0.44566686 0.4504693  0.43020362 0.42294214\n",
      " 0.42402703 0.42609553 0.43889719 0.44796682 0.43847769 0.43647772\n",
      " 0.43273634 0.42751086 0.42176351 0.4158935 ]\n",
      "4 day output [[0.41015545]]\n",
      "5 day input [0.41424858 0.39435901 0.38865974 0.37669708 0.37352921 0.38055925\n",
      " 0.36782994 0.39720864 0.4191378  0.43235892 0.44816935 0.44212289\n",
      " 0.42658734 0.4160278  0.41178948 0.41416179 0.42111952 0.41249831\n",
      " 0.40617705 0.40587325 0.44141411 0.45793332 0.46293825 0.4516265\n",
      " 0.4414575  0.44559456 0.44825614 0.46235965 0.45537296 0.46283698\n",
      " 0.45920621 0.41954282 0.41997676 0.41649066 0.41633156 0.43046399\n",
      " 0.43016023 0.42612444 0.41051659 0.39997149 0.42056984 0.42600874\n",
      " 0.42611001 0.44702659 0.44744609 0.45590816 0.45535853 0.4732519\n",
      " 0.47284688 0.47699836 0.48088949 0.47134249 0.47150158 0.45624088\n",
      " 0.49489174 0.51647375 0.52574586 0.53171997 0.52725025 0.52131953\n",
      " 0.51023923 0.51132412 0.52308428 0.53017224 0.52874016 0.52234659\n",
      " 0.52447297 0.53008541 0.52382202 0.50192177 0.51813723 0.52014786\n",
      " 0.5222598  0.50676761 0.50278969 0.48765917 0.48386931 0.46762494\n",
      " 0.4582226  0.46672811 0.46542625 0.45291391 0.45059948 0.45537296\n",
      " 0.45081645 0.44566686 0.4504693  0.43020362 0.42294214 0.42402703\n",
      " 0.42609553 0.43889719 0.44796682 0.43847769 0.43647772 0.43273634\n",
      " 0.42751086 0.42176351 0.4158935  0.41015545]\n",
      "5 day output [[0.4047081]]\n",
      "6 day input [0.39435901 0.38865974 0.37669708 0.37352921 0.38055925 0.36782994\n",
      " 0.39720864 0.4191378  0.43235892 0.44816935 0.44212289 0.42658734\n",
      " 0.4160278  0.41178948 0.41416179 0.42111952 0.41249831 0.40617705\n",
      " 0.40587325 0.44141411 0.45793332 0.46293825 0.4516265  0.4414575\n",
      " 0.44559456 0.44825614 0.46235965 0.45537296 0.46283698 0.45920621\n",
      " 0.41954282 0.41997676 0.41649066 0.41633156 0.43046399 0.43016023\n",
      " 0.42612444 0.41051659 0.39997149 0.42056984 0.42600874 0.42611001\n",
      " 0.44702659 0.44744609 0.45590816 0.45535853 0.4732519  0.47284688\n",
      " 0.47699836 0.48088949 0.47134249 0.47150158 0.45624088 0.49489174\n",
      " 0.51647375 0.52574586 0.53171997 0.52725025 0.52131953 0.51023923\n",
      " 0.51132412 0.52308428 0.53017224 0.52874016 0.52234659 0.52447297\n",
      " 0.53008541 0.52382202 0.50192177 0.51813723 0.52014786 0.5222598\n",
      " 0.50676761 0.50278969 0.48765917 0.48386931 0.46762494 0.4582226\n",
      " 0.46672811 0.46542625 0.45291391 0.45059948 0.45537296 0.45081645\n",
      " 0.44566686 0.4504693  0.43020362 0.42294214 0.42402703 0.42609553\n",
      " 0.43889719 0.44796682 0.43847769 0.43647772 0.43273634 0.42751086\n",
      " 0.42176351 0.4158935  0.41015545 0.40470809]\n",
      "6 day output [[0.3996272]]\n",
      "7 day input [0.38865974 0.37669708 0.37352921 0.38055925 0.36782994 0.39720864\n",
      " 0.4191378  0.43235892 0.44816935 0.44212289 0.42658734 0.4160278\n",
      " 0.41178948 0.41416179 0.42111952 0.41249831 0.40617705 0.40587325\n",
      " 0.44141411 0.45793332 0.46293825 0.4516265  0.4414575  0.44559456\n",
      " 0.44825614 0.46235965 0.45537296 0.46283698 0.45920621 0.41954282\n",
      " 0.41997676 0.41649066 0.41633156 0.43046399 0.43016023 0.42612444\n",
      " 0.41051659 0.39997149 0.42056984 0.42600874 0.42611001 0.44702659\n",
      " 0.44744609 0.45590816 0.45535853 0.4732519  0.47284688 0.47699836\n",
      " 0.48088949 0.47134249 0.47150158 0.45624088 0.49489174 0.51647375\n",
      " 0.52574586 0.53171997 0.52725025 0.52131953 0.51023923 0.51132412\n",
      " 0.52308428 0.53017224 0.52874016 0.52234659 0.52447297 0.53008541\n",
      " 0.52382202 0.50192177 0.51813723 0.52014786 0.5222598  0.50676761\n",
      " 0.50278969 0.48765917 0.48386931 0.46762494 0.4582226  0.46672811\n",
      " 0.46542625 0.45291391 0.45059948 0.45537296 0.45081645 0.44566686\n",
      " 0.4504693  0.43020362 0.42294214 0.42402703 0.42609553 0.43889719\n",
      " 0.44796682 0.43847769 0.43647772 0.43273634 0.42751086 0.42176351\n",
      " 0.4158935  0.41015545 0.40470809 0.39962721]\n",
      "7 day output [[0.39492345]]\n",
      "8 day input [0.37669708 0.37352921 0.38055925 0.36782994 0.39720864 0.4191378\n",
      " 0.43235892 0.44816935 0.44212289 0.42658734 0.4160278  0.41178948\n",
      " 0.41416179 0.42111952 0.41249831 0.40617705 0.40587325 0.44141411\n",
      " 0.45793332 0.46293825 0.4516265  0.4414575  0.44559456 0.44825614\n",
      " 0.46235965 0.45537296 0.46283698 0.45920621 0.41954282 0.41997676\n",
      " 0.41649066 0.41633156 0.43046399 0.43016023 0.42612444 0.41051659\n",
      " 0.39997149 0.42056984 0.42600874 0.42611001 0.44702659 0.44744609\n",
      " 0.45590816 0.45535853 0.4732519  0.47284688 0.47699836 0.48088949\n",
      " 0.47134249 0.47150158 0.45624088 0.49489174 0.51647375 0.52574586\n",
      " 0.53171997 0.52725025 0.52131953 0.51023923 0.51132412 0.52308428\n",
      " 0.53017224 0.52874016 0.52234659 0.52447297 0.53008541 0.52382202\n",
      " 0.50192177 0.51813723 0.52014786 0.5222598  0.50676761 0.50278969\n",
      " 0.48765917 0.48386931 0.46762494 0.4582226  0.46672811 0.46542625\n",
      " 0.45291391 0.45059948 0.45537296 0.45081645 0.44566686 0.4504693\n",
      " 0.43020362 0.42294214 0.42402703 0.42609553 0.43889719 0.44796682\n",
      " 0.43847769 0.43647772 0.43273634 0.42751086 0.42176351 0.4158935\n",
      " 0.41015545 0.40470809 0.39962721 0.39492345]\n",
      "8 day output [[0.39056376]]\n",
      "9 day input [0.37352921 0.38055925 0.36782994 0.39720864 0.4191378  0.43235892\n",
      " 0.44816935 0.44212289 0.42658734 0.4160278  0.41178948 0.41416179\n",
      " 0.42111952 0.41249831 0.40617705 0.40587325 0.44141411 0.45793332\n",
      " 0.46293825 0.4516265  0.4414575  0.44559456 0.44825614 0.46235965\n",
      " 0.45537296 0.46283698 0.45920621 0.41954282 0.41997676 0.41649066\n",
      " 0.41633156 0.43046399 0.43016023 0.42612444 0.41051659 0.39997149\n",
      " 0.42056984 0.42600874 0.42611001 0.44702659 0.44744609 0.45590816\n",
      " 0.45535853 0.4732519  0.47284688 0.47699836 0.48088949 0.47134249\n",
      " 0.47150158 0.45624088 0.49489174 0.51647375 0.52574586 0.53171997\n",
      " 0.52725025 0.52131953 0.51023923 0.51132412 0.52308428 0.53017224\n",
      " 0.52874016 0.52234659 0.52447297 0.53008541 0.52382202 0.50192177\n",
      " 0.51813723 0.52014786 0.5222598  0.50676761 0.50278969 0.48765917\n",
      " 0.48386931 0.46762494 0.4582226  0.46672811 0.46542625 0.45291391\n",
      " 0.45059948 0.45537296 0.45081645 0.44566686 0.4504693  0.43020362\n",
      " 0.42294214 0.42402703 0.42609553 0.43889719 0.44796682 0.43847769\n",
      " 0.43647772 0.43273634 0.42751086 0.42176351 0.4158935  0.41015545\n",
      " 0.40470809 0.39962721 0.39492345 0.39056376]\n",
      "9 day output [[0.3864919]]\n",
      "10 day input [0.38055925 0.36782994 0.39720864 0.4191378  0.43235892 0.44816935\n",
      " 0.44212289 0.42658734 0.4160278  0.41178948 0.41416179 0.42111952\n",
      " 0.41249831 0.40617705 0.40587325 0.44141411 0.45793332 0.46293825\n",
      " 0.4516265  0.4414575  0.44559456 0.44825614 0.46235965 0.45537296\n",
      " 0.46283698 0.45920621 0.41954282 0.41997676 0.41649066 0.41633156\n",
      " 0.43046399 0.43016023 0.42612444 0.41051659 0.39997149 0.42056984\n",
      " 0.42600874 0.42611001 0.44702659 0.44744609 0.45590816 0.45535853\n",
      " 0.4732519  0.47284688 0.47699836 0.48088949 0.47134249 0.47150158\n",
      " 0.45624088 0.49489174 0.51647375 0.52574586 0.53171997 0.52725025\n",
      " 0.52131953 0.51023923 0.51132412 0.52308428 0.53017224 0.52874016\n",
      " 0.52234659 0.52447297 0.53008541 0.52382202 0.50192177 0.51813723\n",
      " 0.52014786 0.5222598  0.50676761 0.50278969 0.48765917 0.48386931\n",
      " 0.46762494 0.4582226  0.46672811 0.46542625 0.45291391 0.45059948\n",
      " 0.45537296 0.45081645 0.44566686 0.4504693  0.43020362 0.42294214\n",
      " 0.42402703 0.42609553 0.43889719 0.44796682 0.43847769 0.43647772\n",
      " 0.43273634 0.42751086 0.42176351 0.4158935  0.41015545 0.40470809\n",
      " 0.39962721 0.39492345 0.39056376 0.38649189]\n",
      "10 day output [[0.3826445]]\n",
      "11 day input [0.36782994 0.39720864 0.4191378  0.43235892 0.44816935 0.44212289\n",
      " 0.42658734 0.4160278  0.41178948 0.41416179 0.42111952 0.41249831\n",
      " 0.40617705 0.40587325 0.44141411 0.45793332 0.46293825 0.4516265\n",
      " 0.4414575  0.44559456 0.44825614 0.46235965 0.45537296 0.46283698\n",
      " 0.45920621 0.41954282 0.41997676 0.41649066 0.41633156 0.43046399\n",
      " 0.43016023 0.42612444 0.41051659 0.39997149 0.42056984 0.42600874\n",
      " 0.42611001 0.44702659 0.44744609 0.45590816 0.45535853 0.4732519\n",
      " 0.47284688 0.47699836 0.48088949 0.47134249 0.47150158 0.45624088\n",
      " 0.49489174 0.51647375 0.52574586 0.53171997 0.52725025 0.52131953\n",
      " 0.51023923 0.51132412 0.52308428 0.53017224 0.52874016 0.52234659\n",
      " 0.52447297 0.53008541 0.52382202 0.50192177 0.51813723 0.52014786\n",
      " 0.5222598  0.50676761 0.50278969 0.48765917 0.48386931 0.46762494\n",
      " 0.4582226  0.46672811 0.46542625 0.45291391 0.45059948 0.45537296\n",
      " 0.45081645 0.44566686 0.4504693  0.43020362 0.42294214 0.42402703\n",
      " 0.42609553 0.43889719 0.44796682 0.43847769 0.43647772 0.43273634\n",
      " 0.42751086 0.42176351 0.4158935  0.41015545 0.40470809 0.39962721\n",
      " 0.39492345 0.39056376 0.38649189 0.3826445 ]\n",
      "11 day output [[0.37896273]]\n",
      "12 day input [0.39720864 0.4191378  0.43235892 0.44816935 0.44212289 0.42658734\n",
      " 0.4160278  0.41178948 0.41416179 0.42111952 0.41249831 0.40617705\n",
      " 0.40587325 0.44141411 0.45793332 0.46293825 0.4516265  0.4414575\n",
      " 0.44559456 0.44825614 0.46235965 0.45537296 0.46283698 0.45920621\n",
      " 0.41954282 0.41997676 0.41649066 0.41633156 0.43046399 0.43016023\n",
      " 0.42612444 0.41051659 0.39997149 0.42056984 0.42600874 0.42611001\n",
      " 0.44702659 0.44744609 0.45590816 0.45535853 0.4732519  0.47284688\n",
      " 0.47699836 0.48088949 0.47134249 0.47150158 0.45624088 0.49489174\n",
      " 0.51647375 0.52574586 0.53171997 0.52725025 0.52131953 0.51023923\n",
      " 0.51132412 0.52308428 0.53017224 0.52874016 0.52234659 0.52447297\n",
      " 0.53008541 0.52382202 0.50192177 0.51813723 0.52014786 0.5222598\n",
      " 0.50676761 0.50278969 0.48765917 0.48386931 0.46762494 0.4582226\n",
      " 0.46672811 0.46542625 0.45291391 0.45059948 0.45537296 0.45081645\n",
      " 0.44566686 0.4504693  0.43020362 0.42294214 0.42402703 0.42609553\n",
      " 0.43889719 0.44796682 0.43847769 0.43647772 0.43273634 0.42751086\n",
      " 0.42176351 0.4158935  0.41015545 0.40470809 0.39962721 0.39492345\n",
      " 0.39056376 0.38649189 0.3826445  0.37896273]\n",
      "12 day output [[0.3753986]]\n",
      "13 day input [0.4191378  0.43235892 0.44816935 0.44212289 0.42658734 0.4160278\n",
      " 0.41178948 0.41416179 0.42111952 0.41249831 0.40617705 0.40587325\n",
      " 0.44141411 0.45793332 0.46293825 0.4516265  0.4414575  0.44559456\n",
      " 0.44825614 0.46235965 0.45537296 0.46283698 0.45920621 0.41954282\n",
      " 0.41997676 0.41649066 0.41633156 0.43046399 0.43016023 0.42612444\n",
      " 0.41051659 0.39997149 0.42056984 0.42600874 0.42611001 0.44702659\n",
      " 0.44744609 0.45590816 0.45535853 0.4732519  0.47284688 0.47699836\n",
      " 0.48088949 0.47134249 0.47150158 0.45624088 0.49489174 0.51647375\n",
      " 0.52574586 0.53171997 0.52725025 0.52131953 0.51023923 0.51132412\n",
      " 0.52308428 0.53017224 0.52874016 0.52234659 0.52447297 0.53008541\n",
      " 0.52382202 0.50192177 0.51813723 0.52014786 0.5222598  0.50676761\n",
      " 0.50278969 0.48765917 0.48386931 0.46762494 0.4582226  0.46672811\n",
      " 0.46542625 0.45291391 0.45059948 0.45537296 0.45081645 0.44566686\n",
      " 0.4504693  0.43020362 0.42294214 0.42402703 0.42609553 0.43889719\n",
      " 0.44796682 0.43847769 0.43647772 0.43273634 0.42751086 0.42176351\n",
      " 0.4158935  0.41015545 0.40470809 0.39962721 0.39492345 0.39056376\n",
      " 0.38649189 0.3826445  0.37896273 0.37539861]\n",
      "13 day output [[0.37191853]]\n",
      "14 day input [0.43235892 0.44816935 0.44212289 0.42658734 0.4160278  0.41178948\n",
      " 0.41416179 0.42111952 0.41249831 0.40617705 0.40587325 0.44141411\n",
      " 0.45793332 0.46293825 0.4516265  0.4414575  0.44559456 0.44825614\n",
      " 0.46235965 0.45537296 0.46283698 0.45920621 0.41954282 0.41997676\n",
      " 0.41649066 0.41633156 0.43046399 0.43016023 0.42612444 0.41051659\n",
      " 0.39997149 0.42056984 0.42600874 0.42611001 0.44702659 0.44744609\n",
      " 0.45590816 0.45535853 0.4732519  0.47284688 0.47699836 0.48088949\n",
      " 0.47134249 0.47150158 0.45624088 0.49489174 0.51647375 0.52574586\n",
      " 0.53171997 0.52725025 0.52131953 0.51023923 0.51132412 0.52308428\n",
      " 0.53017224 0.52874016 0.52234659 0.52447297 0.53008541 0.52382202\n",
      " 0.50192177 0.51813723 0.52014786 0.5222598  0.50676761 0.50278969\n",
      " 0.48765917 0.48386931 0.46762494 0.4582226  0.46672811 0.46542625\n",
      " 0.45291391 0.45059948 0.45537296 0.45081645 0.44566686 0.4504693\n",
      " 0.43020362 0.42294214 0.42402703 0.42609553 0.43889719 0.44796682\n",
      " 0.43847769 0.43647772 0.43273634 0.42751086 0.42176351 0.4158935\n",
      " 0.41015545 0.40470809 0.39962721 0.39492345 0.39056376 0.38649189\n",
      " 0.3826445  0.37896273 0.37539861 0.37191853]\n",
      "14 day output [[0.36850274]]\n",
      "15 day input [0.44816935 0.44212289 0.42658734 0.4160278  0.41178948 0.41416179\n",
      " 0.42111952 0.41249831 0.40617705 0.40587325 0.44141411 0.45793332\n",
      " 0.46293825 0.4516265  0.4414575  0.44559456 0.44825614 0.46235965\n",
      " 0.45537296 0.46283698 0.45920621 0.41954282 0.41997676 0.41649066\n",
      " 0.41633156 0.43046399 0.43016023 0.42612444 0.41051659 0.39997149\n",
      " 0.42056984 0.42600874 0.42611001 0.44702659 0.44744609 0.45590816\n",
      " 0.45535853 0.4732519  0.47284688 0.47699836 0.48088949 0.47134249\n",
      " 0.47150158 0.45624088 0.49489174 0.51647375 0.52574586 0.53171997\n",
      " 0.52725025 0.52131953 0.51023923 0.51132412 0.52308428 0.53017224\n",
      " 0.52874016 0.52234659 0.52447297 0.53008541 0.52382202 0.50192177\n",
      " 0.51813723 0.52014786 0.5222598  0.50676761 0.50278969 0.48765917\n",
      " 0.48386931 0.46762494 0.4582226  0.46672811 0.46542625 0.45291391\n",
      " 0.45059948 0.45537296 0.45081645 0.44566686 0.4504693  0.43020362\n",
      " 0.42294214 0.42402703 0.42609553 0.43889719 0.44796682 0.43847769\n",
      " 0.43647772 0.43273634 0.42751086 0.42176351 0.4158935  0.41015545\n",
      " 0.40470809 0.39962721 0.39492345 0.39056376 0.38649189 0.3826445\n",
      " 0.37896273 0.37539861 0.37191853 0.36850274]\n",
      "15 day output [[0.3651434]]\n",
      "16 day input [0.44212289 0.42658734 0.4160278  0.41178948 0.41416179 0.42111952\n",
      " 0.41249831 0.40617705 0.40587325 0.44141411 0.45793332 0.46293825\n",
      " 0.4516265  0.4414575  0.44559456 0.44825614 0.46235965 0.45537296\n",
      " 0.46283698 0.45920621 0.41954282 0.41997676 0.41649066 0.41633156\n",
      " 0.43046399 0.43016023 0.42612444 0.41051659 0.39997149 0.42056984\n",
      " 0.42600874 0.42611001 0.44702659 0.44744609 0.45590816 0.45535853\n",
      " 0.4732519  0.47284688 0.47699836 0.48088949 0.47134249 0.47150158\n",
      " 0.45624088 0.49489174 0.51647375 0.52574586 0.53171997 0.52725025\n",
      " 0.52131953 0.51023923 0.51132412 0.52308428 0.53017224 0.52874016\n",
      " 0.52234659 0.52447297 0.53008541 0.52382202 0.50192177 0.51813723\n",
      " 0.52014786 0.5222598  0.50676761 0.50278969 0.48765917 0.48386931\n",
      " 0.46762494 0.4582226  0.46672811 0.46542625 0.45291391 0.45059948\n",
      " 0.45537296 0.45081645 0.44566686 0.4504693  0.43020362 0.42294214\n",
      " 0.42402703 0.42609553 0.43889719 0.44796682 0.43847769 0.43647772\n",
      " 0.43273634 0.42751086 0.42176351 0.4158935  0.41015545 0.40470809\n",
      " 0.39962721 0.39492345 0.39056376 0.38649189 0.3826445  0.37896273\n",
      " 0.37539861 0.37191853 0.36850274 0.36514339]\n",
      "16 day output [[0.36184162]]\n",
      "17 day input [0.42658734 0.4160278  0.41178948 0.41416179 0.42111952 0.41249831\n",
      " 0.40617705 0.40587325 0.44141411 0.45793332 0.46293825 0.4516265\n",
      " 0.4414575  0.44559456 0.44825614 0.46235965 0.45537296 0.46283698\n",
      " 0.45920621 0.41954282 0.41997676 0.41649066 0.41633156 0.43046399\n",
      " 0.43016023 0.42612444 0.41051659 0.39997149 0.42056984 0.42600874\n",
      " 0.42611001 0.44702659 0.44744609 0.45590816 0.45535853 0.4732519\n",
      " 0.47284688 0.47699836 0.48088949 0.47134249 0.47150158 0.45624088\n",
      " 0.49489174 0.51647375 0.52574586 0.53171997 0.52725025 0.52131953\n",
      " 0.51023923 0.51132412 0.52308428 0.53017224 0.52874016 0.52234659\n",
      " 0.52447297 0.53008541 0.52382202 0.50192177 0.51813723 0.52014786\n",
      " 0.5222598  0.50676761 0.50278969 0.48765917 0.48386931 0.46762494\n",
      " 0.4582226  0.46672811 0.46542625 0.45291391 0.45059948 0.45537296\n",
      " 0.45081645 0.44566686 0.4504693  0.43020362 0.42294214 0.42402703\n",
      " 0.42609553 0.43889719 0.44796682 0.43847769 0.43647772 0.43273634\n",
      " 0.42751086 0.42176351 0.4158935  0.41015545 0.40470809 0.39962721\n",
      " 0.39492345 0.39056376 0.38649189 0.3826445  0.37896273 0.37539861\n",
      " 0.37191853 0.36850274 0.36514339 0.36184162]\n",
      "17 day output [[0.35860392]]\n",
      "18 day input [0.4160278  0.41178948 0.41416179 0.42111952 0.41249831 0.40617705\n",
      " 0.40587325 0.44141411 0.45793332 0.46293825 0.4516265  0.4414575\n",
      " 0.44559456 0.44825614 0.46235965 0.45537296 0.46283698 0.45920621\n",
      " 0.41954282 0.41997676 0.41649066 0.41633156 0.43046399 0.43016023\n",
      " 0.42612444 0.41051659 0.39997149 0.42056984 0.42600874 0.42611001\n",
      " 0.44702659 0.44744609 0.45590816 0.45535853 0.4732519  0.47284688\n",
      " 0.47699836 0.48088949 0.47134249 0.47150158 0.45624088 0.49489174\n",
      " 0.51647375 0.52574586 0.53171997 0.52725025 0.52131953 0.51023923\n",
      " 0.51132412 0.52308428 0.53017224 0.52874016 0.52234659 0.52447297\n",
      " 0.53008541 0.52382202 0.50192177 0.51813723 0.52014786 0.5222598\n",
      " 0.50676761 0.50278969 0.48765917 0.48386931 0.46762494 0.4582226\n",
      " 0.46672811 0.46542625 0.45291391 0.45059948 0.45537296 0.45081645\n",
      " 0.44566686 0.4504693  0.43020362 0.42294214 0.42402703 0.42609553\n",
      " 0.43889719 0.44796682 0.43847769 0.43647772 0.43273634 0.42751086\n",
      " 0.42176351 0.4158935  0.41015545 0.40470809 0.39962721 0.39492345\n",
      " 0.39056376 0.38649189 0.3826445  0.37896273 0.37539861 0.37191853\n",
      " 0.36850274 0.36514339 0.36184162 0.35860392]\n",
      "18 day output [[0.35543972]]\n",
      "19 day input [0.41178948 0.41416179 0.42111952 0.41249831 0.40617705 0.40587325\n",
      " 0.44141411 0.45793332 0.46293825 0.4516265  0.4414575  0.44559456\n",
      " 0.44825614 0.46235965 0.45537296 0.46283698 0.45920621 0.41954282\n",
      " 0.41997676 0.41649066 0.41633156 0.43046399 0.43016023 0.42612444\n",
      " 0.41051659 0.39997149 0.42056984 0.42600874 0.42611001 0.44702659\n",
      " 0.44744609 0.45590816 0.45535853 0.4732519  0.47284688 0.47699836\n",
      " 0.48088949 0.47134249 0.47150158 0.45624088 0.49489174 0.51647375\n",
      " 0.52574586 0.53171997 0.52725025 0.52131953 0.51023923 0.51132412\n",
      " 0.52308428 0.53017224 0.52874016 0.52234659 0.52447297 0.53008541\n",
      " 0.52382202 0.50192177 0.51813723 0.52014786 0.5222598  0.50676761\n",
      " 0.50278969 0.48765917 0.48386931 0.46762494 0.4582226  0.46672811\n",
      " 0.46542625 0.45291391 0.45059948 0.45537296 0.45081645 0.44566686\n",
      " 0.4504693  0.43020362 0.42294214 0.42402703 0.42609553 0.43889719\n",
      " 0.44796682 0.43847769 0.43647772 0.43273634 0.42751086 0.42176351\n",
      " 0.4158935  0.41015545 0.40470809 0.39962721 0.39492345 0.39056376\n",
      " 0.38649189 0.3826445  0.37896273 0.37539861 0.37191853 0.36850274\n",
      " 0.36514339 0.36184162 0.35860392 0.35543972]\n",
      "19 day output [[0.3523584]]\n",
      "20 day input [0.41416179 0.42111952 0.41249831 0.40617705 0.40587325 0.44141411\n",
      " 0.45793332 0.46293825 0.4516265  0.4414575  0.44559456 0.44825614\n",
      " 0.46235965 0.45537296 0.46283698 0.45920621 0.41954282 0.41997676\n",
      " 0.41649066 0.41633156 0.43046399 0.43016023 0.42612444 0.41051659\n",
      " 0.39997149 0.42056984 0.42600874 0.42611001 0.44702659 0.44744609\n",
      " 0.45590816 0.45535853 0.4732519  0.47284688 0.47699836 0.48088949\n",
      " 0.47134249 0.47150158 0.45624088 0.49489174 0.51647375 0.52574586\n",
      " 0.53171997 0.52725025 0.52131953 0.51023923 0.51132412 0.52308428\n",
      " 0.53017224 0.52874016 0.52234659 0.52447297 0.53008541 0.52382202\n",
      " 0.50192177 0.51813723 0.52014786 0.5222598  0.50676761 0.50278969\n",
      " 0.48765917 0.48386931 0.46762494 0.4582226  0.46672811 0.46542625\n",
      " 0.45291391 0.45059948 0.45537296 0.45081645 0.44566686 0.4504693\n",
      " 0.43020362 0.42294214 0.42402703 0.42609553 0.43889719 0.44796682\n",
      " 0.43847769 0.43647772 0.43273634 0.42751086 0.42176351 0.4158935\n",
      " 0.41015545 0.40470809 0.39962721 0.39492345 0.39056376 0.38649189\n",
      " 0.3826445  0.37896273 0.37539861 0.37191853 0.36850274 0.36514339\n",
      " 0.36184162 0.35860392 0.35543972 0.3523584 ]\n",
      "20 day output [[0.34936813]]\n",
      "21 day input [0.42111952 0.41249831 0.40617705 0.40587325 0.44141411 0.45793332\n",
      " 0.46293825 0.4516265  0.4414575  0.44559456 0.44825614 0.46235965\n",
      " 0.45537296 0.46283698 0.45920621 0.41954282 0.41997676 0.41649066\n",
      " 0.41633156 0.43046399 0.43016023 0.42612444 0.41051659 0.39997149\n",
      " 0.42056984 0.42600874 0.42611001 0.44702659 0.44744609 0.45590816\n",
      " 0.45535853 0.4732519  0.47284688 0.47699836 0.48088949 0.47134249\n",
      " 0.47150158 0.45624088 0.49489174 0.51647375 0.52574586 0.53171997\n",
      " 0.52725025 0.52131953 0.51023923 0.51132412 0.52308428 0.53017224\n",
      " 0.52874016 0.52234659 0.52447297 0.53008541 0.52382202 0.50192177\n",
      " 0.51813723 0.52014786 0.5222598  0.50676761 0.50278969 0.48765917\n",
      " 0.48386931 0.46762494 0.4582226  0.46672811 0.46542625 0.45291391\n",
      " 0.45059948 0.45537296 0.45081645 0.44566686 0.4504693  0.43020362\n",
      " 0.42294214 0.42402703 0.42609553 0.43889719 0.44796682 0.43847769\n",
      " 0.43647772 0.43273634 0.42751086 0.42176351 0.4158935  0.41015545\n",
      " 0.40470809 0.39962721 0.39492345 0.39056376 0.38649189 0.3826445\n",
      " 0.37896273 0.37539861 0.37191853 0.36850274 0.36514339 0.36184162\n",
      " 0.35860392 0.35543972 0.3523584  0.34936813]\n",
      "21 day output [[0.34647483]]\n",
      "22 day input [0.41249831 0.40617705 0.40587325 0.44141411 0.45793332 0.46293825\n",
      " 0.4516265  0.4414575  0.44559456 0.44825614 0.46235965 0.45537296\n",
      " 0.46283698 0.45920621 0.41954282 0.41997676 0.41649066 0.41633156\n",
      " 0.43046399 0.43016023 0.42612444 0.41051659 0.39997149 0.42056984\n",
      " 0.42600874 0.42611001 0.44702659 0.44744609 0.45590816 0.45535853\n",
      " 0.4732519  0.47284688 0.47699836 0.48088949 0.47134249 0.47150158\n",
      " 0.45624088 0.49489174 0.51647375 0.52574586 0.53171997 0.52725025\n",
      " 0.52131953 0.51023923 0.51132412 0.52308428 0.53017224 0.52874016\n",
      " 0.52234659 0.52447297 0.53008541 0.52382202 0.50192177 0.51813723\n",
      " 0.52014786 0.5222598  0.50676761 0.50278969 0.48765917 0.48386931\n",
      " 0.46762494 0.4582226  0.46672811 0.46542625 0.45291391 0.45059948\n",
      " 0.45537296 0.45081645 0.44566686 0.4504693  0.43020362 0.42294214\n",
      " 0.42402703 0.42609553 0.43889719 0.44796682 0.43847769 0.43647772\n",
      " 0.43273634 0.42751086 0.42176351 0.4158935  0.41015545 0.40470809\n",
      " 0.39962721 0.39492345 0.39056376 0.38649189 0.3826445  0.37896273\n",
      " 0.37539861 0.37191853 0.36850274 0.36514339 0.36184162 0.35860392\n",
      " 0.35543972 0.3523584  0.34936813 0.34647483]\n",
      "22 day output [[0.34368154]]\n",
      "23 day input [0.40617705 0.40587325 0.44141411 0.45793332 0.46293825 0.4516265\n",
      " 0.4414575  0.44559456 0.44825614 0.46235965 0.45537296 0.46283698\n",
      " 0.45920621 0.41954282 0.41997676 0.41649066 0.41633156 0.43046399\n",
      " 0.43016023 0.42612444 0.41051659 0.39997149 0.42056984 0.42600874\n",
      " 0.42611001 0.44702659 0.44744609 0.45590816 0.45535853 0.4732519\n",
      " 0.47284688 0.47699836 0.48088949 0.47134249 0.47150158 0.45624088\n",
      " 0.49489174 0.51647375 0.52574586 0.53171997 0.52725025 0.52131953\n",
      " 0.51023923 0.51132412 0.52308428 0.53017224 0.52874016 0.52234659\n",
      " 0.52447297 0.53008541 0.52382202 0.50192177 0.51813723 0.52014786\n",
      " 0.5222598  0.50676761 0.50278969 0.48765917 0.48386931 0.46762494\n",
      " 0.4582226  0.46672811 0.46542625 0.45291391 0.45059948 0.45537296\n",
      " 0.45081645 0.44566686 0.4504693  0.43020362 0.42294214 0.42402703\n",
      " 0.42609553 0.43889719 0.44796682 0.43847769 0.43647772 0.43273634\n",
      " 0.42751086 0.42176351 0.4158935  0.41015545 0.40470809 0.39962721\n",
      " 0.39492345 0.39056376 0.38649189 0.3826445  0.37896273 0.37539861\n",
      " 0.37191853 0.36850274 0.36514339 0.36184162 0.35860392 0.35543972\n",
      " 0.3523584  0.34936813 0.34647483 0.34368154]\n",
      "23 day output [[0.34098902]]\n",
      "24 day input [0.40587325 0.44141411 0.45793332 0.46293825 0.4516265  0.4414575\n",
      " 0.44559456 0.44825614 0.46235965 0.45537296 0.46283698 0.45920621\n",
      " 0.41954282 0.41997676 0.41649066 0.41633156 0.43046399 0.43016023\n",
      " 0.42612444 0.41051659 0.39997149 0.42056984 0.42600874 0.42611001\n",
      " 0.44702659 0.44744609 0.45590816 0.45535853 0.4732519  0.47284688\n",
      " 0.47699836 0.48088949 0.47134249 0.47150158 0.45624088 0.49489174\n",
      " 0.51647375 0.52574586 0.53171997 0.52725025 0.52131953 0.51023923\n",
      " 0.51132412 0.52308428 0.53017224 0.52874016 0.52234659 0.52447297\n",
      " 0.53008541 0.52382202 0.50192177 0.51813723 0.52014786 0.5222598\n",
      " 0.50676761 0.50278969 0.48765917 0.48386931 0.46762494 0.4582226\n",
      " 0.46672811 0.46542625 0.45291391 0.45059948 0.45537296 0.45081645\n",
      " 0.44566686 0.4504693  0.43020362 0.42294214 0.42402703 0.42609553\n",
      " 0.43889719 0.44796682 0.43847769 0.43647772 0.43273634 0.42751086\n",
      " 0.42176351 0.4158935  0.41015545 0.40470809 0.39962721 0.39492345\n",
      " 0.39056376 0.38649189 0.3826445  0.37896273 0.37539861 0.37191853\n",
      " 0.36850274 0.36514339 0.36184162 0.35860392 0.35543972 0.3523584\n",
      " 0.34936813 0.34647483 0.34368154 0.34098902]\n",
      "24 day output [[0.33839574]]\n",
      "25 day input [0.44141411 0.45793332 0.46293825 0.4516265  0.4414575  0.44559456\n",
      " 0.44825614 0.46235965 0.45537296 0.46283698 0.45920621 0.41954282\n",
      " 0.41997676 0.41649066 0.41633156 0.43046399 0.43016023 0.42612444\n",
      " 0.41051659 0.39997149 0.42056984 0.42600874 0.42611001 0.44702659\n",
      " 0.44744609 0.45590816 0.45535853 0.4732519  0.47284688 0.47699836\n",
      " 0.48088949 0.47134249 0.47150158 0.45624088 0.49489174 0.51647375\n",
      " 0.52574586 0.53171997 0.52725025 0.52131953 0.51023923 0.51132412\n",
      " 0.52308428 0.53017224 0.52874016 0.52234659 0.52447297 0.53008541\n",
      " 0.52382202 0.50192177 0.51813723 0.52014786 0.5222598  0.50676761\n",
      " 0.50278969 0.48765917 0.48386931 0.46762494 0.4582226  0.46672811\n",
      " 0.46542625 0.45291391 0.45059948 0.45537296 0.45081645 0.44566686\n",
      " 0.4504693  0.43020362 0.42294214 0.42402703 0.42609553 0.43889719\n",
      " 0.44796682 0.43847769 0.43647772 0.43273634 0.42751086 0.42176351\n",
      " 0.4158935  0.41015545 0.40470809 0.39962721 0.39492345 0.39056376\n",
      " 0.38649189 0.3826445  0.37896273 0.37539861 0.37191853 0.36850274\n",
      " 0.36514339 0.36184162 0.35860392 0.35543972 0.3523584  0.34936813\n",
      " 0.34647483 0.34368154 0.34098902 0.33839574]\n",
      "25 day output [[0.33589873]]\n",
      "26 day input [0.45793332 0.46293825 0.4516265  0.4414575  0.44559456 0.44825614\n",
      " 0.46235965 0.45537296 0.46283698 0.45920621 0.41954282 0.41997676\n",
      " 0.41649066 0.41633156 0.43046399 0.43016023 0.42612444 0.41051659\n",
      " 0.39997149 0.42056984 0.42600874 0.42611001 0.44702659 0.44744609\n",
      " 0.45590816 0.45535853 0.4732519  0.47284688 0.47699836 0.48088949\n",
      " 0.47134249 0.47150158 0.45624088 0.49489174 0.51647375 0.52574586\n",
      " 0.53171997 0.52725025 0.52131953 0.51023923 0.51132412 0.52308428\n",
      " 0.53017224 0.52874016 0.52234659 0.52447297 0.53008541 0.52382202\n",
      " 0.50192177 0.51813723 0.52014786 0.5222598  0.50676761 0.50278969\n",
      " 0.48765917 0.48386931 0.46762494 0.4582226  0.46672811 0.46542625\n",
      " 0.45291391 0.45059948 0.45537296 0.45081645 0.44566686 0.4504693\n",
      " 0.43020362 0.42294214 0.42402703 0.42609553 0.43889719 0.44796682\n",
      " 0.43847769 0.43647772 0.43273634 0.42751086 0.42176351 0.4158935\n",
      " 0.41015545 0.40470809 0.39962721 0.39492345 0.39056376 0.38649189\n",
      " 0.3826445  0.37896273 0.37539861 0.37191853 0.36850274 0.36514339\n",
      " 0.36184162 0.35860392 0.35543972 0.3523584  0.34936813 0.34647483\n",
      " 0.34368154 0.34098902 0.33839574 0.33589873]\n",
      "26 day output [[0.3334938]]\n",
      "27 day input [0.46293825 0.4516265  0.4414575  0.44559456 0.44825614 0.46235965\n",
      " 0.45537296 0.46283698 0.45920621 0.41954282 0.41997676 0.41649066\n",
      " 0.41633156 0.43046399 0.43016023 0.42612444 0.41051659 0.39997149\n",
      " 0.42056984 0.42600874 0.42611001 0.44702659 0.44744609 0.45590816\n",
      " 0.45535853 0.4732519  0.47284688 0.47699836 0.48088949 0.47134249\n",
      " 0.47150158 0.45624088 0.49489174 0.51647375 0.52574586 0.53171997\n",
      " 0.52725025 0.52131953 0.51023923 0.51132412 0.52308428 0.53017224\n",
      " 0.52874016 0.52234659 0.52447297 0.53008541 0.52382202 0.50192177\n",
      " 0.51813723 0.52014786 0.5222598  0.50676761 0.50278969 0.48765917\n",
      " 0.48386931 0.46762494 0.4582226  0.46672811 0.46542625 0.45291391\n",
      " 0.45059948 0.45537296 0.45081645 0.44566686 0.4504693  0.43020362\n",
      " 0.42294214 0.42402703 0.42609553 0.43889719 0.44796682 0.43847769\n",
      " 0.43647772 0.43273634 0.42751086 0.42176351 0.4158935  0.41015545\n",
      " 0.40470809 0.39962721 0.39492345 0.39056376 0.38649189 0.3826445\n",
      " 0.37896273 0.37539861 0.37191853 0.36850274 0.36514339 0.36184162\n",
      " 0.35860392 0.35543972 0.3523584  0.34936813 0.34647483 0.34368154\n",
      " 0.34098902 0.33839574 0.33589873 0.3334938 ]\n",
      "27 day output [[0.33117658]]\n",
      "28 day input [0.4516265  0.4414575  0.44559456 0.44825614 0.46235965 0.45537296\n",
      " 0.46283698 0.45920621 0.41954282 0.41997676 0.41649066 0.41633156\n",
      " 0.43046399 0.43016023 0.42612444 0.41051659 0.39997149 0.42056984\n",
      " 0.42600874 0.42611001 0.44702659 0.44744609 0.45590816 0.45535853\n",
      " 0.4732519  0.47284688 0.47699836 0.48088949 0.47134249 0.47150158\n",
      " 0.45624088 0.49489174 0.51647375 0.52574586 0.53171997 0.52725025\n",
      " 0.52131953 0.51023923 0.51132412 0.52308428 0.53017224 0.52874016\n",
      " 0.52234659 0.52447297 0.53008541 0.52382202 0.50192177 0.51813723\n",
      " 0.52014786 0.5222598  0.50676761 0.50278969 0.48765917 0.48386931\n",
      " 0.46762494 0.4582226  0.46672811 0.46542625 0.45291391 0.45059948\n",
      " 0.45537296 0.45081645 0.44566686 0.4504693  0.43020362 0.42294214\n",
      " 0.42402703 0.42609553 0.43889719 0.44796682 0.43847769 0.43647772\n",
      " 0.43273634 0.42751086 0.42176351 0.4158935  0.41015545 0.40470809\n",
      " 0.39962721 0.39492345 0.39056376 0.38649189 0.3826445  0.37896273\n",
      " 0.37539861 0.37191853 0.36850274 0.36514339 0.36184162 0.35860392\n",
      " 0.35543972 0.3523584  0.34936813 0.34647483 0.34368154 0.34098902\n",
      " 0.33839574 0.33589873 0.3334938  0.33117658]\n",
      "28 day output [[0.3289422]]\n",
      "29 day input [0.4414575  0.44559456 0.44825614 0.46235965 0.45537296 0.46283698\n",
      " 0.45920621 0.41954282 0.41997676 0.41649066 0.41633156 0.43046399\n",
      " 0.43016023 0.42612444 0.41051659 0.39997149 0.42056984 0.42600874\n",
      " 0.42611001 0.44702659 0.44744609 0.45590816 0.45535853 0.4732519\n",
      " 0.47284688 0.47699836 0.48088949 0.47134249 0.47150158 0.45624088\n",
      " 0.49489174 0.51647375 0.52574586 0.53171997 0.52725025 0.52131953\n",
      " 0.51023923 0.51132412 0.52308428 0.53017224 0.52874016 0.52234659\n",
      " 0.52447297 0.53008541 0.52382202 0.50192177 0.51813723 0.52014786\n",
      " 0.5222598  0.50676761 0.50278969 0.48765917 0.48386931 0.46762494\n",
      " 0.4582226  0.46672811 0.46542625 0.45291391 0.45059948 0.45537296\n",
      " 0.45081645 0.44566686 0.4504693  0.43020362 0.42294214 0.42402703\n",
      " 0.42609553 0.43889719 0.44796682 0.43847769 0.43647772 0.43273634\n",
      " 0.42751086 0.42176351 0.4158935  0.41015545 0.40470809 0.39962721\n",
      " 0.39492345 0.39056376 0.38649189 0.3826445  0.37896273 0.37539861\n",
      " 0.37191853 0.36850274 0.36514339 0.36184162 0.35860392 0.35543972\n",
      " 0.3523584  0.34936813 0.34647483 0.34368154 0.34098902 0.33839574\n",
      " 0.33589873 0.3334938  0.33117658 0.32894221]\n",
      "29 day output [[0.3267863]]\n",
      "[[0.432736337184906], [0.4275108575820923], [0.42176350951194763], [0.4158934950828552], [0.41015544533729553], [0.4047080874443054], [0.3996272087097168], [0.39492344856262207], [0.3905637562274933], [0.38649189472198486], [0.38264450430870056], [0.3789627254009247], [0.3753986060619354], [0.37191852927207947], [0.36850273609161377], [0.36514338850975037], [0.36184161901474], [0.35860392451286316], [0.3554397225379944], [0.3523584008216858], [0.3493681252002716], [0.346474826335907], [0.34368154406547546], [0.34098902344703674], [0.33839574456214905], [0.3358987271785736], [0.33349379897117615], [0.3311765789985657], [0.328942209482193], [0.3267863094806671]]\n"
     ]
    }
   ],
   "source": [
    "lst_output=[]\n",
    "n_steps=100\n",
    "i=0\n",
    "while(i<30):\n",
    "    \n",
    "    if(len(temp_input)>100):\n",
    "        #print(temp_input)\n",
    "        x_input=np.array(temp_input[1:])\n",
    "        print(\"{} day input {}\".format(i,x_input))\n",
    "        x_input=x_input.reshape(1,-1)\n",
    "        x_input = x_input.reshape((1, n_steps, 1))\n",
    "        #print(x_input)\n",
    "        yhat = mdl.predict(x_input, verbose=0)\n",
    "        print(\"{} day output {}\".format(i,yhat))\n",
    "        temp_input.extend(yhat[0].tolist())\n",
    "        temp_input=temp_input[1:]\n",
    "        #print(temp_input)\n",
    "        lst_output.extend(yhat.tolist())\n",
    "        i=i+1\n",
    "    else:\n",
    "        x_input = x_input.reshape((1, n_steps,1))\n",
    "        yhat = mdl.predict(x_input, verbose=0)\n",
    "        print(yhat[0])\n",
    "        temp_input.extend(yhat[0].tolist())\n",
    "        print(len(temp_input))\n",
    "        lst_output.extend(yhat.tolist())\n",
    "        i=i+1\n",
    "    \n",
    "\n",
    "print(lst_output)"
   ]
  },
  {
   "cell_type": "code",
   "execution_count": 73,
   "id": "0e179d28-5ef8-42d0-838e-a0d30e24acd5",
   "metadata": {},
   "outputs": [],
   "source": [
    "day_new=np.arange(1,101)\n",
    "day_pred=np.arange(101,131)"
   ]
  },
  {
   "cell_type": "code",
   "execution_count": 74,
   "id": "8284964a-dde4-4eb3-a2c4-7970fef7ad56",
   "metadata": {},
   "outputs": [
    {
     "data": {
      "text/plain": [
       "5241"
      ]
     },
     "execution_count": 74,
     "metadata": {},
     "output_type": "execute_result"
    }
   ],
   "source": [
    "len(df)"
   ]
  },
  {
   "cell_type": "code",
   "execution_count": 78,
   "id": "25e558cc-cf66-4616-9b94-e5367b1e1eb0",
   "metadata": {},
   "outputs": [
    {
     "data": {
      "text/plain": [
       "[<matplotlib.lines.Line2D at 0x281eb0306a0>]"
      ]
     },
     "execution_count": 78,
     "metadata": {},
     "output_type": "execute_result"
    },
    {
     "data": {
      "image/png": "[encoded data removed]",
      "text/plain": [
       "<Figure size 640x480 with 1 Axes>"
      ]
     },
     "metadata": {},
     "output_type": "display_data"
    }
   ],
   "source": [
    "day_new_output=df[5141:]\n",
    "plt.plot(day_new,scaler.inverse_transform(day_new_output))\n",
    "plt.plot(day_pred,scaler.inverse_transform(lst_output))"
   ]
  },
  {
   "cell_type": "code",
   "execution_count": 91,
   "id": "44ecc572-0336-4f26-a1f7-79293a07b370",
   "metadata": {},
   "outputs": [
    {
     "data": {
      "text/plain": [
       "[<matplotlib.lines.Line2D at 0x281eacdbf10>]"
      ]
     },
     "execution_count": 91,
     "metadata": {},
     "output_type": "execute_result"
    },
    {
     "data": {
      "image/png": "[encoded data removed]",
      "text/plain": [
       "<Figure size 640x480 with 1 Axes>"
      ]
     },
     "metadata": {},
     "output_type": "display_data"
    }
   ],
   "source": [
    "df2=df.tolist()\n",
    "df2.extend(lst_output)\n",
    "plt.plot(df2[5140:])"
   ]
  },
  {
   "cell_type": "code",
   "execution_count": 92,
   "id": "e2f57570-654b-41d1-92f4-2ccb54cadc01",
   "metadata": {},
   "outputs": [],
   "source": [
    "df2=scaler.inverse_transform(df2).tolist()"
   ]
  },
  {
   "cell_type": "code",
   "execution_count": 93,
   "id": "aea7619e-18a5-4d11-abad-bcffc0b8cef3",
   "metadata": {},
   "outputs": [
    {
     "data": {
      "text/plain": [
       "[<matplotlib.lines.Line2D at 0x281e8598670>]"
      ]
     },
     "execution_count": 93,
     "metadata": {},
     "output_type": "execute_result"
    },
    {
     "data": {
      "image/png": "[encoded data removed]",
      "text/plain": [
       "<Figure size 640x480 with 1 Axes>"
      ]
     },
     "metadata": {},
     "output_type": "display_data"
    }
   ],
   "source": [
    "plt.plot(df2)"
   ]
  },
  {
   "cell_type": "code",
   "execution_count": null,
   "id": "3b0e3709-8a84-44b0-aa2a-f3da9871ccc4",
   "metadata": {},
   "outputs": [],
   "source": []
  }
 ],
 "metadata": {
  "kernelspec": {
   "display_name": "Python 3 (ipykernel)",
   "language": "python",
   "name": "python3"
  },
  "language_info": {
   "codemirror_mode": {
    "name": "ipython",
    "version": 3
   },
   "file_extension": ".py",
   "mimetype": "text/x-python",
   "name": "python",
   "nbconvert_exporter": "python",
   "pygments_lexer": "ipython3",
   "version": "3.9.18"
  }
 },
 "nbformat": 4,
 "nbformat_minor": 5
}
